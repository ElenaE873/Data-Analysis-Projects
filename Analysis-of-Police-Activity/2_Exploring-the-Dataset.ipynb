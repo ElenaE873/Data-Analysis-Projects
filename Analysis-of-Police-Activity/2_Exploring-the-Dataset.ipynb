{
 "cells": [
  {
   "cell_type": "markdown",
   "id": "fc4507e2",
   "metadata": {},
   "source": [
    "## In this Notebook:"
   ]
  },
  {
   "cell_type": "markdown",
   "id": "a6bb9d45",
   "metadata": {},
   "source": [
    "- **Do genders commit different violations?**\n",
    "- **Does gender affect who gets a ticket for speeding?**\n",
    "- **Does gender affect whose vehicle is searched?**\n",
    "- **Does gender affect who is frisked during a search?**"
   ]
  },
  {
   "cell_type": "markdown",
   "id": "d81a44a8",
   "metadata": {},
   "source": [
    "Note:  This is a simplistic view of analysis, it is primarily to practice certain subsetting of the dataset.  This exercise along with its questions mimics the DataCamp course on \"Analyzing Police Activity with Pandas\".\n",
    "\n",
    "In other words, this exploration is more about the relationships between data, and not at all to explain causation. Even though the questions might implie a search into causation, this exploration is soley for correlations."
   ]
  },
  {
   "cell_type": "markdown",
   "id": "a831eb79",
   "metadata": {},
   "source": [
    "#### Importing the Prepared Dataset"
   ]
  },
  {
   "cell_type": "code",
   "execution_count": 10,
   "id": "edc42694",
   "metadata": {},
   "outputs": [
    {
     "data": {
      "text/html": [
       "<div>\n",
       "<style scoped>\n",
       "    .dataframe tbody tr th:only-of-type {\n",
       "        vertical-align: middle;\n",
       "    }\n",
       "\n",
       "    .dataframe tbody tr th {\n",
       "        vertical-align: top;\n",
       "    }\n",
       "\n",
       "    .dataframe thead th {\n",
       "        text-align: right;\n",
       "    }\n",
       "</style>\n",
       "<table border=\"1\" class=\"dataframe\">\n",
       "  <thead>\n",
       "    <tr style=\"text-align: right;\">\n",
       "      <th></th>\n",
       "      <th>driver_gender</th>\n",
       "      <th>driver_race</th>\n",
       "      <th>violation_raw</th>\n",
       "      <th>violation</th>\n",
       "      <th>search_conducted</th>\n",
       "      <th>stop_outcome</th>\n",
       "      <th>is_arrested</th>\n",
       "      <th>stop_duration</th>\n",
       "      <th>drugs_related_stop</th>\n",
       "      <th>district</th>\n",
       "      <th>date_time_stop</th>\n",
       "    </tr>\n",
       "  </thead>\n",
       "  <tbody>\n",
       "    <tr>\n",
       "      <th>0</th>\n",
       "      <td>M</td>\n",
       "      <td>White</td>\n",
       "      <td>Equipment/Inspection Violation</td>\n",
       "      <td>Equipment</td>\n",
       "      <td>False</td>\n",
       "      <td>Citation</td>\n",
       "      <td>False</td>\n",
       "      <td>0-15 Min</td>\n",
       "      <td>False</td>\n",
       "      <td>Zone X4</td>\n",
       "      <td>2005-01-04 12:55:00</td>\n",
       "    </tr>\n",
       "    <tr>\n",
       "      <th>1</th>\n",
       "      <td>M</td>\n",
       "      <td>White</td>\n",
       "      <td>Speeding</td>\n",
       "      <td>Speeding</td>\n",
       "      <td>False</td>\n",
       "      <td>Citation</td>\n",
       "      <td>False</td>\n",
       "      <td>0-15 Min</td>\n",
       "      <td>False</td>\n",
       "      <td>Zone K3</td>\n",
       "      <td>2005-01-23 23:15:00</td>\n",
       "    </tr>\n",
       "    <tr>\n",
       "      <th>2</th>\n",
       "      <td>M</td>\n",
       "      <td>White</td>\n",
       "      <td>Speeding</td>\n",
       "      <td>Speeding</td>\n",
       "      <td>False</td>\n",
       "      <td>Citation</td>\n",
       "      <td>False</td>\n",
       "      <td>0-15 Min</td>\n",
       "      <td>False</td>\n",
       "      <td>Zone X4</td>\n",
       "      <td>2005-02-17 04:15:00</td>\n",
       "    </tr>\n",
       "    <tr>\n",
       "      <th>3</th>\n",
       "      <td>M</td>\n",
       "      <td>White</td>\n",
       "      <td>Call for Service</td>\n",
       "      <td>Other</td>\n",
       "      <td>False</td>\n",
       "      <td>Arrest Driver</td>\n",
       "      <td>True</td>\n",
       "      <td>16-30 Min</td>\n",
       "      <td>False</td>\n",
       "      <td>Zone X1</td>\n",
       "      <td>2005-02-20 17:15:00</td>\n",
       "    </tr>\n",
       "    <tr>\n",
       "      <th>4</th>\n",
       "      <td>F</td>\n",
       "      <td>White</td>\n",
       "      <td>Speeding</td>\n",
       "      <td>Speeding</td>\n",
       "      <td>False</td>\n",
       "      <td>Citation</td>\n",
       "      <td>False</td>\n",
       "      <td>0-15 Min</td>\n",
       "      <td>False</td>\n",
       "      <td>Zone X3</td>\n",
       "      <td>2005-02-24 01:20:00</td>\n",
       "    </tr>\n",
       "  </tbody>\n",
       "</table>\n",
       "</div>"
      ],
      "text/plain": [
       "  driver_gender driver_race                   violation_raw  violation  \\\n",
       "0             M       White  Equipment/Inspection Violation  Equipment   \n",
       "1             M       White                        Speeding   Speeding   \n",
       "2             M       White                        Speeding   Speeding   \n",
       "3             M       White                Call for Service      Other   \n",
       "4             F       White                        Speeding   Speeding   \n",
       "\n",
       "   search_conducted   stop_outcome  is_arrested stop_duration  \\\n",
       "0             False       Citation        False      0-15 Min   \n",
       "1             False       Citation        False      0-15 Min   \n",
       "2             False       Citation        False      0-15 Min   \n",
       "3             False  Arrest Driver         True     16-30 Min   \n",
       "4             False       Citation        False      0-15 Min   \n",
       "\n",
       "   drugs_related_stop district       date_time_stop  \n",
       "0               False  Zone X4  2005-01-04 12:55:00  \n",
       "1               False  Zone K3  2005-01-23 23:15:00  \n",
       "2               False  Zone X4  2005-02-17 04:15:00  \n",
       "3               False  Zone X1  2005-02-20 17:15:00  \n",
       "4               False  Zone X3  2005-02-24 01:20:00  "
      ]
     },
     "execution_count": 10,
     "metadata": {},
     "output_type": "execute_result"
    }
   ],
   "source": [
    "#importing the pandas library to handle actions on the dataframe\n",
    "import pandas as pd\n",
    "\n",
    "#importing the prepared datset\n",
    "RI_traffic_prepd = pd.read_csv(\"RI_traffic_prepped.csv\")\n",
    "RI_traffic_prepd.drop('Unnamed: 0', axis='columns', inplace=True)\n",
    "RI_traffic_prepd.head()"
   ]
  },
  {
   "cell_type": "markdown",
   "id": "8d642d13",
   "metadata": {},
   "source": [
    "### Do genders commit different violations?"
   ]
  },
  {
   "cell_type": "markdown",
   "id": "d4c3a68e",
   "metadata": {},
   "source": [
    "- using value_counts() for categorical columns"
   ]
  },
  {
   "cell_type": "code",
   "execution_count": 15,
   "id": "aca15a90",
   "metadata": {},
   "outputs": [
    {
     "data": {
      "text/plain": [
       "Citation            77092\n",
       "Warning              5137\n",
       "Arrest Driver        2735\n",
       "No Action             625\n",
       "N/D                   607\n",
       "Arrest Passenger      343\n",
       "Name: stop_outcome, dtype: int64"
      ]
     },
     "execution_count": 15,
     "metadata": {},
     "output_type": "execute_result"
    }
   ],
   "source": [
    "RI_traffic_prepd.stop_outcome.value_counts()"
   ]
  },
  {
   "cell_type": "markdown",
   "id": "44b172eb",
   "metadata": {},
   "source": [
    "- The most common stop outcome is a citation followed by a warning."
   ]
  },
  {
   "cell_type": "code",
   "execution_count": 16,
   "id": "f71c83c5",
   "metadata": {},
   "outputs": [
    {
     "data": {
      "text/plain": [
       "Citation            0.890835\n",
       "Warning             0.059361\n",
       "Arrest Driver       0.031604\n",
       "No Action           0.007222\n",
       "N/D                 0.007014\n",
       "Arrest Passenger    0.003964\n",
       "Name: stop_outcome, dtype: float64"
      ]
     },
     "execution_count": 16,
     "metadata": {},
     "output_type": "execute_result"
    }
   ],
   "source": [
    "#proportion of value counts\n",
    "RI_traffic_prepd.stop_outcome.value_counts(normalize=True)"
   ]
  },
  {
   "cell_type": "markdown",
   "id": "525fc646",
   "metadata": {},
   "source": [
    "- This gives a good sense of the proportionality of stop outcomes"
   ]
  },
  {
   "cell_type": "markdown",
   "id": "4f50ad09",
   "metadata": {},
   "source": [
    "Examining the proportions of driver_races."
   ]
  },
  {
   "cell_type": "code",
   "execution_count": 17,
   "id": "2dd42720",
   "metadata": {},
   "outputs": [
    {
     "data": {
      "text/plain": [
       "White       0.714961\n",
       "Black       0.141959\n",
       "Hispanic    0.112400\n",
       "Asian       0.027618\n",
       "Other       0.003062\n",
       "Name: driver_race, dtype: float64"
      ]
     },
     "execution_count": 17,
     "metadata": {},
     "output_type": "execute_result"
    }
   ],
   "source": [
    "RI_traffic_prepd.driver_race.value_counts(normalize=True)"
   ]
  },
  {
   "cell_type": "markdown",
   "id": "f596ffa6",
   "metadata": {},
   "source": [
    "- We can observe the largest proportion at 71% is \"White\""
   ]
  },
  {
   "cell_type": "code",
   "execution_count": 18,
   "id": "23a5e345",
   "metadata": {},
   "outputs": [
    {
     "data": {
      "text/plain": [
       "(61872, 11)"
      ]
     },
     "execution_count": 18,
     "metadata": {},
     "output_type": "execute_result"
    }
   ],
   "source": [
    "#subsetting the data by a value in the driver_race column, in this case \"white\"\n",
    "RI_white_drivers = RI_traffic_prepd[RI_traffic_prepd.driver_race == \"White\"]\n",
    "RI_white_drivers.shape"
   ]
  },
  {
   "cell_type": "markdown",
   "id": "dfd4d7e3",
   "metadata": {},
   "source": [
    "Now if look at this subsettted dataset for stop_outcomes we can see how it has changed"
   ]
  },
  {
   "cell_type": "code",
   "execution_count": 19,
   "id": "b55fcc73",
   "metadata": {},
   "outputs": [
    {
     "data": {
      "text/plain": [
       "Citation            0.902234\n",
       "Warning             0.057522\n",
       "Arrest Driver       0.024017\n",
       "No Action           0.007047\n",
       "N/D                 0.006433\n",
       "Arrest Passenger    0.002748\n",
       "Name: stop_outcome, dtype: float64"
      ]
     },
     "execution_count": 19,
     "metadata": {},
     "output_type": "execute_result"
    }
   ],
   "source": [
    "RI_white_drivers.stop_outcome.value_counts(normalize=True)"
   ]
  },
  {
   "cell_type": "markdown",
   "id": "28b44190",
   "metadata": {},
   "source": [
    "**Observation**: The citation percentage went up to 90% (from 89%) largely because the \"White\" value is contributing to a large extent to those types of stop_oucomes, now that the dataset is isolated to only where the data represents the \"White\" value."
   ]
  },
  {
   "cell_type": "markdown",
   "id": "1020a5de",
   "metadata": {},
   "source": [
    "### Does gender affect who gets a ticket for speeding?"
   ]
  },
  {
   "cell_type": "markdown",
   "id": "83761952",
   "metadata": {},
   "source": [
    "- Filtering by multiple conditions"
   ]
  },
  {
   "cell_type": "code",
   "execution_count": 21,
   "id": "820e3d28",
   "metadata": {},
   "outputs": [
    {
     "data": {
      "text/plain": [
       "(23774, 11)"
      ]
     },
     "execution_count": 21,
     "metadata": {},
     "output_type": "execute_result"
    }
   ],
   "source": [
    "#creating a dataframe of female drivers\n",
    "RI_female_drivers = RI_traffic_prepd[RI_traffic_prepd.driver_gender == 'F']\n",
    "RI_female_drivers.shape"
   ]
  },
  {
   "cell_type": "code",
   "execution_count": 22,
   "id": "b4619b0d",
   "metadata": {},
   "outputs": [
    {
     "data": {
      "text/plain": [
       "(669, 11)"
      ]
     },
     "execution_count": 22,
     "metadata": {},
     "output_type": "execute_result"
    }
   ],
   "source": [
    "#creating another subset of the dataset where the dataset represents females that were arrested\n",
    "RI_females_arrested = RI_traffic_prepd[(RI_traffic_prepd.driver_gender == 'F') &\n",
    "                                      (RI_traffic_prepd.is_arrested == True)]\n",
    "RI_females_arrested.shape"
   ]
  },
  {
   "cell_type": "code",
   "execution_count": 23,
   "id": "982a47f1",
   "metadata": {},
   "outputs": [
    {
     "data": {
      "text/plain": [
       "(31385, 11)"
      ]
     },
     "execution_count": 23,
     "metadata": {},
     "output_type": "execute_result"
    }
   ],
   "source": [
    "#now creating a subset of the data where they are FEMALE -OR- ARRESTED\n",
    "RI_females_OR_arrested = RI_traffic_prepd[(RI_traffic_prepd.driver_gender == 'F') | #<--\n",
    "                                      (RI_traffic_prepd.is_arrested == True)]\n",
    "RI_females_OR_arrested.shape"
   ]
  },
  {
   "cell_type": "markdown",
   "id": "91215baf",
   "metadata": {},
   "source": [
    "Here we include:\n",
    "- All drivers that are female\n",
    "- Plus, drivers that are arrested that may not be female\n",
    "\n",
    "This is because in this scenario, either condition can be met."
   ]
  },
  {
   "cell_type": "markdown",
   "id": "0819380b",
   "metadata": {},
   "source": [
    "### Does gender affect whose vehicle is searched?"
   ]
  },
  {
   "cell_type": "markdown",
   "id": "9c7e6ac0",
   "metadata": {},
   "source": [
    "Exploring mathematical calculations with Boolean values"
   ]
  },
  {
   "cell_type": "markdown",
   "id": "f395191d",
   "metadata": {},
   "source": [
    "**The mean of a Boolean Series represents the percentage of True values.**"
   ]
  },
  {
   "cell_type": "code",
   "execution_count": 24,
   "id": "8d5050e5",
   "metadata": {},
   "outputs": [
    {
     "data": {
      "text/plain": [
       "False    0.909746\n",
       "True     0.090254\n",
       "Name: is_arrested, dtype: float64"
      ]
     },
     "execution_count": 24,
     "metadata": {},
     "output_type": "execute_result"
    }
   ],
   "source": [
    "#value counts that result in an arrest\n",
    "RI_traffic_prepd.is_arrested.value_counts(normalize=True)"
   ]
  },
  {
   "cell_type": "code",
   "execution_count": 25,
   "id": "44cfdb03",
   "metadata": {},
   "outputs": [
    {
     "data": {
      "text/plain": [
       "0.09025408486936048"
      ]
     },
     "execution_count": 25,
     "metadata": {},
     "output_type": "execute_result"
    }
   ],
   "source": [
    "#taking the mean of these bolean values\n",
    "RI_traffic_prepd.is_arrested.mean()"
   ]
  },
  {
   "cell_type": "markdown",
   "id": "14ad5b30",
   "metadata": {},
   "source": [
    "##### using the groupby() method to explore arrest rate by district"
   ]
  },
  {
   "cell_type": "code",
   "execution_count": 27,
   "id": "ded4965b",
   "metadata": {},
   "outputs": [
    {
     "data": {
      "text/plain": [
       "array(['Zone X4', 'Zone K3', 'Zone X1', 'Zone X3', 'Zone K1', 'Zone K2'],\n",
       "      dtype=object)"
      ]
     },
     "execution_count": 27,
     "metadata": {},
     "output_type": "execute_result"
    }
   ],
   "source": [
    "RI_traffic_prepd.district.unique()"
   ]
  },
  {
   "cell_type": "code",
   "execution_count": 28,
   "id": "f433be68",
   "metadata": {},
   "outputs": [
    {
     "data": {
      "text/plain": [
       "0.06718137819774142"
      ]
     },
     "execution_count": 28,
     "metadata": {},
     "output_type": "execute_result"
    }
   ],
   "source": [
    "#can calculate the arrest rate in a particular zone\n",
    "RI_traffic_prepd[RI_traffic_prepd.district == 'Zone K1'].is_arrested.mean()"
   ]
  },
  {
   "cell_type": "code",
   "execution_count": 29,
   "id": "3ef6b624",
   "metadata": {},
   "outputs": [
    {
     "data": {
      "text/plain": [
       "district\n",
       "Zone K1    0.067181\n",
       "Zone K2    0.069522\n",
       "Zone K3    0.072286\n",
       "Zone X1    0.230044\n",
       "Zone X3    0.082466\n",
       "Zone X4    0.117674\n",
       "Name: is_arrested, dtype: float64"
      ]
     },
     "execution_count": 29,
     "metadata": {},
     "output_type": "execute_result"
    }
   ],
   "source": [
    "#grouping by district column will give us a way to compare across districts\n",
    "RI_traffic_prepd.groupby('district').is_arrested.mean()"
   ]
  },
  {
   "cell_type": "code",
   "execution_count": 31,
   "id": "25c438da",
   "metadata": {},
   "outputs": [
    {
     "data": {
      "text/plain": [
       "district  driver_gender\n",
       "Zone K1   F                0.019169\n",
       "          M                0.026588\n",
       "Zone K2   F                0.022196\n",
       "          M                0.034285\n",
       "Zone K3   F                0.025156\n",
       "          M                0.034961\n",
       "Zone X1   F                0.019646\n",
       "          M                0.024563\n",
       "Zone X3   F                0.027188\n",
       "          M                0.038166\n",
       "Zone X4   F                0.042149\n",
       "          M                0.049956\n",
       "Name: is_arrested, dtype: float64"
      ]
     },
     "execution_count": 31,
     "metadata": {},
     "output_type": "execute_result"
    }
   ],
   "source": [
    "#grouping by multiple categories to look at arrest rate\n",
    "RI_traffic_prepd.groupby(['district', 'driver_gender']).is_arrested.mean()"
   ]
  },
  {
   "cell_type": "code",
   "execution_count": 32,
   "id": "21ede796",
   "metadata": {},
   "outputs": [
    {
     "data": {
      "text/plain": [
       "driver_gender  district\n",
       "F              Zone K1     0.019169\n",
       "               Zone K2     0.022196\n",
       "               Zone K3     0.025156\n",
       "               Zone X1     0.019646\n",
       "               Zone X3     0.027188\n",
       "               Zone X4     0.042149\n",
       "M              Zone K1     0.026588\n",
       "               Zone K2     0.034285\n",
       "               Zone K3     0.034961\n",
       "               Zone X1     0.024563\n",
       "               Zone X3     0.038166\n",
       "               Zone X4     0.049956\n",
       "Name: is_arrested, dtype: float64"
      ]
     },
     "execution_count": 32,
     "metadata": {},
     "output_type": "execute_result"
    }
   ],
   "source": [
    "#can change the presentation of the result by swapping the fields, because occurence will be same\n",
    "RI_traffic_prepd.groupby(['driver_gender', 'district']).is_arrested.mean()"
   ]
  },
  {
   "cell_type": "markdown",
   "id": "77568823",
   "metadata": {},
   "source": [
    "### Does gender affect who is frisked during a search?"
   ]
  },
  {
   "cell_type": "code",
   "execution_count": 33,
   "id": "1f04d5f0",
   "metadata": {},
   "outputs": [
    {
     "data": {
      "text/plain": [
       "False    88434\n",
       "True      3307\n",
       "Name: search_conducted, dtype: int64"
      ]
     },
     "execution_count": 33,
     "metadata": {},
     "output_type": "execute_result"
    }
   ],
   "source": [
    "RI_traffic_prepd.search_conducted.value_counts()"
   ]
  },
  {
   "cell_type": "code",
   "execution_count": 36,
   "id": "58d7f1d9",
   "metadata": {},
   "outputs": [
    {
     "ename": "AttributeError",
     "evalue": "'DataFrame' object has no attribute 'search_type'",
     "output_type": "error",
     "traceback": [
      "\u001b[1;31m---------------------------------------------------------------------------\u001b[0m",
      "\u001b[1;31mAttributeError\u001b[0m                            Traceback (most recent call last)",
      "\u001b[1;32m~\\AppData\\Local\\Temp/ipykernel_26024/1349485937.py\u001b[0m in \u001b[0;36m<module>\u001b[1;34m\u001b[0m\n\u001b[0;32m      1\u001b[0m \u001b[1;31m#to get the correlation to where a search is not conducted in the search_type as NaN\u001b[0m\u001b[1;33m\u001b[0m\u001b[1;33m\u001b[0m\u001b[0m\n\u001b[1;32m----> 2\u001b[1;33m \u001b[0mRI_traffic_prepd\u001b[0m\u001b[1;33m.\u001b[0m\u001b[0msearch_type\u001b[0m\u001b[1;33m.\u001b[0m\u001b[0mvalue_counts\u001b[0m\u001b[1;33m(\u001b[0m\u001b[0mdropna\u001b[0m\u001b[1;33m=\u001b[0m\u001b[1;32mFalse\u001b[0m\u001b[1;33m)\u001b[0m\u001b[1;33m\u001b[0m\u001b[1;33m\u001b[0m\u001b[0m\n\u001b[0m",
      "\u001b[1;32m~\\anaconda3\\lib\\site-packages\\pandas\\core\\generic.py\u001b[0m in \u001b[0;36m__getattr__\u001b[1;34m(self, name)\u001b[0m\n\u001b[0;32m   5485\u001b[0m         ):\n\u001b[0;32m   5486\u001b[0m             \u001b[1;32mreturn\u001b[0m \u001b[0mself\u001b[0m\u001b[1;33m[\u001b[0m\u001b[0mname\u001b[0m\u001b[1;33m]\u001b[0m\u001b[1;33m\u001b[0m\u001b[1;33m\u001b[0m\u001b[0m\n\u001b[1;32m-> 5487\u001b[1;33m         \u001b[1;32mreturn\u001b[0m \u001b[0mobject\u001b[0m\u001b[1;33m.\u001b[0m\u001b[0m__getattribute__\u001b[0m\u001b[1;33m(\u001b[0m\u001b[0mself\u001b[0m\u001b[1;33m,\u001b[0m \u001b[0mname\u001b[0m\u001b[1;33m)\u001b[0m\u001b[1;33m\u001b[0m\u001b[1;33m\u001b[0m\u001b[0m\n\u001b[0m\u001b[0;32m   5488\u001b[0m \u001b[1;33m\u001b[0m\u001b[0m\n\u001b[0;32m   5489\u001b[0m     \u001b[1;32mdef\u001b[0m \u001b[0m__setattr__\u001b[0m\u001b[1;33m(\u001b[0m\u001b[0mself\u001b[0m\u001b[1;33m,\u001b[0m \u001b[0mname\u001b[0m\u001b[1;33m:\u001b[0m \u001b[0mstr\u001b[0m\u001b[1;33m,\u001b[0m \u001b[0mvalue\u001b[0m\u001b[1;33m)\u001b[0m \u001b[1;33m->\u001b[0m \u001b[1;32mNone\u001b[0m\u001b[1;33m:\u001b[0m\u001b[1;33m\u001b[0m\u001b[1;33m\u001b[0m\u001b[0m\n",
      "\u001b[1;31mAttributeError\u001b[0m: 'DataFrame' object has no attribute 'search_type'"
     ]
    }
   ],
   "source": [
    "#to get the correlation to where a search is not conducted in the search_type as NaN\n",
    "RI_traffic_prepd.search_type.value_counts(dropna=False)"
   ]
  },
  {
   "cell_type": "markdown",
   "id": "78822faf",
   "metadata": {},
   "source": [
    "- oops that column has been dropped, and this is where by way of exploration it is obvious that even though the search_type had 96% missing values, it was for a good reason.  This is where one would go back and add this field back in with a note of determination that it is a reasonable cause for why its missing so many values.  \n",
    "- Through this exercise it would have been obvious that the NAN values in this field would be the same number of values as \"False\" in the search_conducted field.  The correlation here makes sense.  \n",
    "- If there is no search_conducted (False) it would also mean there would be no search_type listed."
   ]
  }
 ],
 "metadata": {
  "kernelspec": {
   "display_name": "Python 3 (ipykernel)",
   "language": "python",
   "name": "python3"
  },
  "language_info": {
   "codemirror_mode": {
    "name": "ipython",
    "version": 3
   },
   "file_extension": ".py",
   "mimetype": "text/x-python",
   "name": "python",
   "nbconvert_exporter": "python",
   "pygments_lexer": "ipython3",
   "version": "3.9.7"
  }
 },
 "nbformat": 4,
 "nbformat_minor": 5
}
